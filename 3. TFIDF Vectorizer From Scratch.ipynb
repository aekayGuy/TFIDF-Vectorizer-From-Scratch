{
 "cells": [
  {
   "cell_type": "markdown",
   "metadata": {
    "colab_type": "text",
    "id": "IvLvmewlxLix"
   },
   "source": [
    "<font face='georgia'>\n",
    "    \n",
    "   <h4><strong>What does tf-idf mean?</strong></h4>\n",
    "\n",
    "   <p>    \n",
    "Tf-idf stands for <em>term frequency-inverse document frequency</em>, and the tf-idf weight is a weight often used in information retrieval and text mining. This weight is a statistical measure used to evaluate how important a word is to a document in a collection or corpus. The importance increases proportionally to the number of times a word appears in the document but is offset by the frequency of the word in the corpus. Variations of the tf-idf weighting scheme are often used by search engines as a central tool in scoring and ranking a document's relevance given a user query.\n",
    "</p>\n",
    "    \n",
    "   <p>\n",
    "One of the simplest ranking functions is computed by summing the tf-idf for each query term; many more sophisticated ranking functions are variants of this simple model.\n",
    "</p>\n",
    "    \n",
    "   <p>\n",
    "Tf-idf can be successfully used for stop-words filtering in various subject fields including text summarization and classification.\n",
    "</p>\n",
    "    \n",
    "</font>"
   ]
  },
  {
   "cell_type": "markdown",
   "metadata": {
    "colab_type": "text",
    "id": "4XLaGFUMxLiy"
   },
   "source": [
    "<font face='georgia'>\n",
    "    <h4><strong>How to Compute:</strong></h4>\n",
    "\n",
    "Typically, the tf-idf weight is composed by two terms: the first computes the normalized Term Frequency (TF), aka. the number of times a word appears in a document, divided by the total number of words in that document; the second term is the Inverse Document Frequency (IDF), computed as the logarithm of the number of the documents in the corpus divided by the number of documents where the specific term appears.\n",
    "\n",
    " <ul>\n",
    "    <li>\n",
    "<strong>TF:</strong> Term Frequency, which measures how frequently a term occurs in a document. Since every document is different in length, it is possible that a term would appear much more times in long documents than shorter ones. Thus, the term frequency is often divided by the document length (aka. the total number of terms in the document) as a way of normalization: <br>\n",
    "\n",
    "$TF(t) = \\frac{\\text{Number of times term t appears in a document}}{\\text{Total number of terms in the document}}.$\n",
    "</li>\n",
    "<li>\n",
    "<strong>IDF:</strong> Inverse Document Frequency, which measures how important a term is. While computing TF, all terms are considered equally important. However it is known that certain terms, such as \"is\", \"of\", and \"that\", may appear a lot of times but have little importance. Thus we need to weigh down the frequent terms while scale up the rare ones, by computing the following: <br>\n",
    "\n",
    "$IDF(t) = \\log_{e}\\frac{\\text{Total  number of documents}} {\\text{Number of documents with term t in it}}.$\n",
    "for numerical stabiltiy we will be changing this formula little bit\n",
    "$IDF(t) = \\log_{e}\\frac{\\text{Total  number of documents}} {\\text{Number of documents with term t in it}+1}.$\n",
    "</li>\n",
    "</ul>\n",
    "\n",
    "<br>\n",
    "<h4><strong>Example</strong></h4>\n",
    "<p>\n",
    "\n",
    "Consider a document containing 100 words wherein the word cat appears 3 times. The term frequency (i.e., tf) for cat is then (3 / 100) = 0.03. Now, assume we have 10 million documents and the word cat appears in one thousand of these. Then, the inverse document frequency (i.e., idf) is calculated as log(10,000,000 / 1,000) = 4. Thus, the Tf-idf weight is the product of these quantities: 0.03 * 4 = 0.12.\n",
    "</p>\n",
    "</font>"
   ]
  },
  {
   "cell_type": "markdown",
   "metadata": {
    "colab_type": "text",
    "id": "dg2ooa4DxLiz"
   },
   "source": [
    "## Task-1"
   ]
  },
  {
   "cell_type": "markdown",
   "metadata": {
    "colab_type": "text",
    "id": "TAcTjhO8xLiz"
   },
   "source": [
    "<font face='georgia'>\n",
    "    <h4><strong>1. Build a TFIDF Vectorizer & compare its results with Sklearn:</strong></h4>\n",
    "\n",
    "<ul>\n",
    "    <li> As a part of this task you will be implementing TFIDF vectorizer on a collection of text documents.</li>\n",
    "    <br>\n",
    "    <li> You should compare the results of your own implementation of TFIDF vectorizer with that of sklearns implemenation TFIDF vectorizer.</li>\n",
    "    <br>\n",
    "    <li> Sklearn does few more tweaks in the implementation of its version of TFIDF vectorizer, so to replicate the exact results you would need to add following things to your custom implementation of tfidf vectorizer:\n",
    "       <ol>\n",
    "        <li> Sklearn has its vocabulary generated from idf sroted in alphabetical order</li>\n",
    "        <li> Sklearn formula of idf is different from the standard textbook formula. Here the constant <strong>\"1\"</strong> is added to the numerator and denominator of the idf as if an extra document was seen containing every term in the collection exactly once, which prevents zero divisions.\n",
    "            \n",
    " $IDF(t) = 1+\\log_{e}\\frac{1\\text{ }+\\text{ Total  number of documents in collection}} {1+\\text{Number of documents with term t in it}}.$\n",
    "        </li>\n",
    "        <li> Sklearn applies L2-normalization on its output matrix.</li>\n",
    "        <li> The final output of sklearn tfidf vectorizer is a sparse matrix.</li>\n",
    "    </ol>\n",
    "    <br>\n",
    "    <li>Steps to approach this task:\n",
    "    <ol>\n",
    "        <li> You would have to write both fit and transform methods for your custom implementation of tfidf vectorizer.</li>\n",
    "        <li> Print out the alphabetically sorted voacb after you fit your data and check if its the same as that of the feature names from sklearn tfidf vectorizer. </li>\n",
    "        <li> Print out the idf values from your implementation and check if its the same as that of sklearns tfidf vectorizer idf values. </li>\n",
    "        <li> Once you get your voacb and idf values to be same as that of sklearns implementation of tfidf vectorizer, proceed to the below steps. </li>\n",
    "        <li> Make sure the output of your implementation is a sparse matrix. Before generating the final output, you need to normalize your sparse matrix using L2 normalization. You can refer to this link https://scikit-learn.org/stable/modules/generated/sklearn.preprocessing.normalize.html </li>\n",
    "        <li> After completing the above steps, print the output of your custom implementation and compare it with sklearns implementation of tfidf vectorizer.</li>\n",
    "        <li> To check the output of a single document in your collection of documents,  you can convert the sparse matrix related only to that document into dense matrix and print it.</li>\n",
    "        </ol>\n",
    "    </li>\n",
    "    <br>\n",
    "   </ul>"
   ]
  },
  {
   "cell_type": "markdown",
   "metadata": {},
   "source": [
    "# Task - 1"
   ]
  },
  {
   "cell_type": "code",
   "execution_count": 2,
   "metadata": {},
   "outputs": [],
   "source": [
    "# Importing essential libraries\n",
    "import numpy as np\n",
    "from sklearn.preprocessing import normalize\n",
    "from scipy.sparse import csr_matrix\n",
    "from tqdm import tqdm\n",
    "from sklearn.feature_extraction.text import TfidfVectorizer\n",
    "from collections import Counter"
   ]
  },
  {
   "cell_type": "code",
   "execution_count": 3,
   "metadata": {},
   "outputs": [],
   "source": [
    "corpus = [\n",
    "     'this is the first document',\n",
    "     'this document is the second document',\n",
    "     'and this is the third one',\n",
    "     'is this the first document',\n",
    "]"
   ]
  },
  {
   "cell_type": "markdown",
   "metadata": {},
   "source": [
    "# Writing fit() method"
   ]
  },
  {
   "cell_type": "code",
   "execution_count": 4,
   "metadata": {},
   "outputs": [],
   "source": [
    "def fit(corpus):    \n",
    "# 1. Collecting unique words from corpus and sorting them\n",
    "\n",
    "    unique_words = set()\n",
    "    if isinstance(corpus, (list,)):\n",
    "        for row in corpus:\n",
    "            for word in row.split(' '):\n",
    "                if len(word)<2:\n",
    "                    continue\n",
    "                unique_words.add(word)\n",
    "        unique_words = sorted(list(unique_words))\n",
    "\n",
    "    return unique_words"
   ]
  },
  {
   "cell_type": "code",
   "execution_count": 5,
   "metadata": {},
   "outputs": [
    {
     "name": "stdout",
     "output_type": "stream",
     "text": [
      "['and', 'document', 'first', 'is', 'one', 'second', 'the', 'third', 'this']\n"
     ]
    }
   ],
   "source": [
    "unique_words = fit(corpus)\n",
    "print(unique_words)"
   ]
  },
  {
   "cell_type": "markdown",
   "metadata": {},
   "source": [
    "# Writing transform() method"
   ]
  },
  {
   "cell_type": "code",
   "execution_count": 26,
   "metadata": {},
   "outputs": [],
   "source": [
    "def transform(corpus, unique_words):\n",
    "    from tqdm import tqdm\n",
    "    import numpy as np\n",
    "    from scipy.sparse import csr_matrix\n",
    "    from sklearn.preprocessing import normalize\n",
    "# 1. Creating list of documents inside documents for simplification only\n",
    "    lst_0 = list()\n",
    "    j = 0\n",
    "    for i in corpus:\n",
    "        lst_0.append([])\n",
    "        lst_0[j].append(i)\n",
    "        j += 1\n",
    "\n",
    "# 2. Separating each word to iterate amongst words nicely\n",
    "    lst_1 = []\n",
    "    for i in lst_0:\n",
    "        for j in i:\n",
    "            lst_1.append((j.split(' ')))\n",
    "    \n",
    "# 3. Computing tf -\n",
    "    print('idf values for given corpus =')\n",
    "    i = 0\n",
    "    Values = []\n",
    "    for sent in range(len(lst_1)):\n",
    "        Values.append([])\n",
    "        for word in range(len(unique_words)):\n",
    "            tf = lst_1[sent].count(unique_words[word])/len(lst_1[sent])\n",
    "\n",
    "# 4. computing Idf-\n",
    "\n",
    "            N = len(lst_1)     # total no. of documents in corpus\n",
    "\n",
    "            n=0                # no. of doc has term-'t'\n",
    "            for i in range(len(lst_1)):\n",
    "                if lst_1[i].count(unique_words[word]) != 0:\n",
    "                    n += 1\n",
    "\n",
    "            idf = 1 + (np.log((1+N)/(1+n)))\n",
    "            \n",
    "            \n",
    "# 5. Computing Tf-Idf values\n",
    "\n",
    "            Tf_Idf = tf*idf\n",
    "            Values[sent].append(Tf_Idf)\n",
    "        \n",
    "# ************ I made changes here to adopt changes you suggested : ************\n",
    "# ************ Suggestion: Please print the idf values along with the feature names ************\n",
    "            if sent == 0:\n",
    "                print(unique_words[word],':',idf)\n",
    "        \n",
    "        \n",
    "# 6. normalizing\n",
    "    normalized_val = normalize(Values)\n",
    "    \n",
    "    \n",
    "# 7. Creating sparse matrix\n",
    "    sparse_val = csr_matrix(normalized_val)\n",
    "    return sparse_val"
   ]
  },
  {
   "cell_type": "code",
   "execution_count": 27,
   "metadata": {},
   "outputs": [
    {
     "name": "stdout",
     "output_type": "stream",
     "text": [
      "idf values for given corpus =\n",
      "and : 1.916290731874155\n",
      "document : 1.2231435513142097\n",
      "first : 1.5108256237659907\n",
      "is : 1.0\n",
      "one : 1.916290731874155\n",
      "second : 1.916290731874155\n",
      "the : 1.0\n",
      "third : 1.916290731874155\n",
      "this : 1.0\n",
      "\n",
      "Type of custom TfIdfVec output matrix = <class 'scipy.sparse.csr.csr_matrix'> \n",
      "\n",
      "printing some values of tfidf =\n",
      "   (0, 1)\t0.4697913855799205\n",
      "  (0, 2)\t0.580285823684436\n",
      "  (0, 3)\t0.3840852409148149\n",
      "  (0, 6)\t0.3840852409148149\n",
      "  (0, 8)\t0.3840852409148149 \n",
      "\n",
      "Sparse matrix to Feature matrix =\n",
      " [[0.         0.46979139 0.58028582 0.38408524 0.         0.\n",
      "  0.38408524 0.         0.38408524]\n",
      " [0.         0.6876236  0.         0.28108867 0.         0.53864762\n",
      "  0.28108867 0.         0.28108867]\n",
      " [0.51184851 0.         0.         0.26710379 0.51184851 0.\n",
      "  0.26710379 0.51184851 0.26710379]\n",
      " [0.         0.46979139 0.58028582 0.38408524 0.         0.\n",
      "  0.38408524 0.         0.38408524]]\n"
     ]
    }
   ],
   "source": [
    "a = transform(corpus, unique_words)\n",
    "print('\\nType of custom TfIdfVec output matrix =', type(a), '\\n')\n",
    "print('printing some values of tfidf =\\n',a[0], '\\n')\n",
    "print('Sparse matrix to Feature matrix =\\n',a.toarray())"
   ]
  },
  {
   "cell_type": "markdown",
   "metadata": {},
   "source": [
    "### Implementing sklearn TfidfVectorizer() - For cross verifying outputs"
   ]
  },
  {
   "cell_type": "code",
   "execution_count": 12,
   "metadata": {},
   "outputs": [],
   "source": [
    "# 1. fit and transform\n",
    "from sklearn.feature_extraction.text import TfidfVectorizer\n",
    "vec = TfidfVectorizer().fit(corpus)\n",
    "X = vec.transform(corpus)"
   ]
  },
  {
   "cell_type": "code",
   "execution_count": 13,
   "metadata": {},
   "outputs": [
    {
     "name": "stdout",
     "output_type": "stream",
     "text": [
      "['and', 'document', 'first', 'is', 'one', 'second', 'the', 'third', 'this']\n"
     ]
    }
   ],
   "source": [
    "# 2. printing feature names\n",
    "print(vec.get_feature_names())"
   ]
  },
  {
   "cell_type": "code",
   "execution_count": 14,
   "metadata": {},
   "outputs": [
    {
     "name": "stdout",
     "output_type": "stream",
     "text": [
      "[1.91629073 1.22314355 1.51082562 1.         1.91629073 1.91629073\n",
      " 1.         1.91629073 1.        ]\n"
     ]
    }
   ],
   "source": [
    "# 3. printing idf values of sklearn vectirizer\n",
    "print(vec.idf_)"
   ]
  },
  {
   "cell_type": "code",
   "execution_count": 15,
   "metadata": {},
   "outputs": [
    {
     "data": {
      "text/plain": [
       "scipy.sparse.csr.csr_matrix"
      ]
     },
     "execution_count": 15,
     "metadata": {},
     "output_type": "execute_result"
    }
   ],
   "source": [
    "# 4. sklearn has sparse presentation as output matrix\n",
    "type(X)"
   ]
  },
  {
   "cell_type": "code",
   "execution_count": 16,
   "metadata": {},
   "outputs": [
    {
     "name": "stdout",
     "output_type": "stream",
     "text": [
      "  (0, 8)\t0.38408524091481483\n",
      "  (0, 6)\t0.38408524091481483\n",
      "  (0, 3)\t0.38408524091481483\n",
      "  (0, 2)\t0.5802858236844359\n",
      "  (0, 1)\t0.46979138557992045\n"
     ]
    }
   ],
   "source": [
    "# 5. printing sklearn output for individual document\n",
    "print(X[0])"
   ]
  },
  {
   "cell_type": "code",
   "execution_count": 17,
   "metadata": {},
   "outputs": [
    {
     "name": "stdout",
     "output_type": "stream",
     "text": [
      "[[0.         0.46979139 0.58028582 0.38408524 0.         0.\n",
      "  0.38408524 0.         0.38408524]\n",
      " [0.         0.6876236  0.         0.28108867 0.         0.53864762\n",
      "  0.28108867 0.         0.28108867]\n",
      " [0.51184851 0.         0.         0.26710379 0.51184851 0.\n",
      "  0.26710379 0.51184851 0.26710379]\n",
      " [0.         0.46979139 0.58028582 0.38408524 0.         0.\n",
      "  0.38408524 0.         0.38408524]]\n"
     ]
    }
   ],
   "source": [
    "# 6. Sparse matrix (sklearn) to Feature matrix \n",
    "print(X.toarray())"
   ]
  },
  {
   "cell_type": "code",
   "execution_count": null,
   "metadata": {},
   "outputs": [],
   "source": [
    "# **************** Task-1 Finishes here ****************"
   ]
  },
  {
   "cell_type": "markdown",
   "metadata": {},
   "source": [
    "# Task - 2\n",
    "\n",
    "<font face='georgia'>\n",
    "    <h4><strong>2. Implement max features functionality:</strong></h4>\n",
    "\n",
    "<ul>\n",
    "    <li> As a part of this task you have to modify your fit and transform functions so that your vocab will contain only 50 terms with top idf scores.</li>\n",
    "    <br>\n",
    "    <li>This task is similar to your previous task, just that here your vocabulary is limited to only top 50 features names based on their idf values. Basically your output will have exactly 50 columns and the number of rows will depend on the number of documents you have in your corpus.</li>\n",
    "    <br>\n",
    "    <li>Here you will be give a pickle file, with file name <strong>cleaned_strings</strong>. You would have to load the corpus from this file and use it as input to your tfidf vectorizer.</li>\n",
    "    <br>\n",
    "    <li>Steps to approach this task:\n",
    "    <ol>\n",
    "        <li> You would have to write both fit and transform methods for your custom implementation of tfidf vectorizer, just like in the previous task. Additionally, here you have to limit the number of features generated to 50 as described above.</li>\n",
    "        <li> Now sort your vocab based in descending order of idf values and print out the words in the sorted voacb after you fit your data. Here you should be getting only 50 terms in your vocab. And make sure to print idf values for each term in your vocab. </li>\n",
    "        <li> Make sure the output of your implementation is a sparse matrix. Before generating the final output, you need to normalize your sparse matrix using L2 normalization. You can refer to this link https://scikit-learn.org/stable/modules/generated/sklearn.preprocessing.normalize.html </li>\n",
    "        <li> Now check the output of a single document in your collection of documents,  you can convert the sparse matrix related only to that document into dense matrix and print it. And this dense matrix should contain 1 row and 50 columns. </li>\n",
    "        </ol>\n",
    "    </li>\n",
    "    <br>\n",
    "   </ul>"
   ]
  },
  {
   "cell_type": "code",
   "execution_count": 19,
   "metadata": {},
   "outputs": [
    {
     "name": "stdout",
     "output_type": "stream",
     "text": [
      "Number of documents in corpus =  746\n"
     ]
    }
   ],
   "source": [
    "# Below is the code to load the cleaned_strings pickle file provided\n",
    "# Here corpus is of list type\n",
    "\n",
    "import pickle\n",
    "with open('cleaned_strings', 'rb') as f:\n",
    "    corpus = pickle.load(f)\n",
    "    \n",
    "# printing the length of the corpus loaded\n",
    "print(\"Number of documents in corpus = \",len(corpus))"
   ]
  },
  {
   "cell_type": "markdown",
   "metadata": {},
   "source": [
    "# Writing fit() method"
   ]
  },
  {
   "cell_type": "code",
   "execution_count": 20,
   "metadata": {},
   "outputs": [],
   "source": [
    "def fit(corpus):\n",
    "    # 0. all Importing essential libraries\n",
    "    import numpy as np\n",
    "    from scipy.sparse import csr_matrix\n",
    "    from tqdm import tqdm\n",
    "    from collections import Counter\n",
    "    \n",
    "# 1. Creating list of documents inside documents for simplification only\n",
    "    lst_0 = list()\n",
    "    j = 0\n",
    "    for i in corpus:\n",
    "        lst_0.append([])\n",
    "        lst_0[j].append(i)\n",
    "        j += 1\n",
    "    \n",
    "# 2. Separating each word to iterate amongst words nicely\n",
    "    lst_1 = []\n",
    "    for i in lst_0:\n",
    "        for j in i:\n",
    "            lst_1.append((j.split(' ')))\n",
    "    \n",
    "# 3. Collecting unique words from corpus and sorting them\n",
    "    unique_words = set()\n",
    "    if isinstance(corpus, (list,)):\n",
    "        for row in corpus:\n",
    "            for word in row.split(' '):\n",
    "                if len(word)<2:\n",
    "                    continue\n",
    "                unique_words.add(word)\n",
    "        unique_words = sorted(list(unique_words))\n",
    "\n",
    "# 4. computing idf values for corpus........\n",
    "\n",
    "    i = 0\n",
    "    idf_val = []\n",
    "    N = len(lst_1)             # total no. of documents in corpus\n",
    "    for sent in range(len(lst_1)):\n",
    "        for word in range(len(unique_words)):\n",
    "        \n",
    "            n=0                # no. of doc has term-'t'\n",
    "            for i in range(len(lst_1)):\n",
    "                if lst_1[i].count(unique_words[word]) != 0:\n",
    "                    n += 1\n",
    "\n",
    "            idf = 1 + (np.log((1+N)/(1+n)))\n",
    "            idf_val.append(idf)\n",
    "        break\n",
    "    my_idf = np.array(idf_val)\n",
    "    \n",
    "# 5. Creating max_feature\n",
    "    vocab_0 = dict(zip(unique_words, idf_val))\n",
    "\n",
    "    sorted(vocab_0.values())\n",
    "    a = Counter(vocab_0)\n",
    "    vocab = a.most_common(50)\n",
    "\n",
    "    vocab = dict(vocab)\n",
    "    \n",
    "    max_feature = list(vocab.keys())\n",
    "    return max_feature"
   ]
  },
  {
   "cell_type": "code",
   "execution_count": 22,
   "metadata": {},
   "outputs": [
    {
     "name": "stdout",
     "output_type": "stream",
     "text": [
      "['aailiyah', 'abandoned', 'abroad', 'abstruse', 'academy', 'accents', 'accessible', 'acclaimed', 'accolades', 'accurate', 'accurately', 'achille', 'ackerman', 'actions', 'adams', 'add', 'added', 'admins', 'admiration', 'admitted', 'adrift', 'adventure', 'aesthetically', 'affected', 'affleck', 'afternoon', 'aged', 'ages', 'agree', 'agreed', 'aimless', 'aired', 'akasha', 'akin', 'alert', 'alike', 'allison', 'allow', 'allowing', 'alongside', 'amateurish', 'amaze', 'amazed', 'amazingly', 'amusing', 'amust', 'anatomist', 'angel', 'angela', 'angelina']\n"
     ]
    }
   ],
   "source": [
    "max_feature = fit(corpus)\n",
    "print(max_feature)"
   ]
  },
  {
   "cell_type": "markdown",
   "metadata": {},
   "source": [
    "# Writing transform() method"
   ]
  },
  {
   "cell_type": "code",
   "execution_count": 23,
   "metadata": {},
   "outputs": [],
   "source": [
    "\n",
    "def transform(corpus, max_feature):\n",
    "    from tqdm import tqdm\n",
    "    import numpy as np\n",
    "    from scipy.sparse import csr_matrix\n",
    "    from sklearn.preprocessing import normalize\n",
    "# 1. Creating list of documents inside documents for simplification only\n",
    "    lst_0 = list()\n",
    "    j = 0\n",
    "    for i in corpus:\n",
    "        lst_0.append([])\n",
    "        lst_0[j].append(i)\n",
    "        j += 1\n",
    "\n",
    "# 2. Separating each word to iterate amongst words nicely\n",
    "    lst_1 = []\n",
    "    for i in tqdm(lst_0):\n",
    "        for j in i:\n",
    "            lst_1.append((j.split(' ')))\n",
    "    \n",
    "# 3. Computing tf -\n",
    "    \n",
    "    i = 0\n",
    "    Values = []\n",
    "    for sent in tqdm(range(len(lst_1))):\n",
    "        Values.append([])\n",
    "        for word in range(len(max_feature)):\n",
    "            tf = lst_1[sent].count(max_feature[word])/len(lst_1[sent])\n",
    "\n",
    "# 4. computing Idf-\n",
    "\n",
    "            N = len(lst_1)     # total no. of documents in corpus\n",
    "\n",
    "            n=0                # no. of doc has term-'t'\n",
    "            for i in range(len(lst_1)):\n",
    "                if lst_1[i].count(max_feature[word]) != 0:\n",
    "                    n += 1\n",
    "\n",
    "            idf = 1 + (np.log((1+N)/(1+n)))\n",
    "            \n",
    "# 5. Computing Tf-Idf values\n",
    "\n",
    "            Tf_Idf = tf*idf\n",
    "            Values[sent].append(Tf_Idf)\n",
    "        \n",
    "# 6. normalizing\n",
    "    normalized_val = normalize(Values)\n",
    "    \n",
    "# 7. Creating sparse matrix\n",
    "    sparse_val = csr_matrix(normalized_val)\n",
    "    return sparse_val"
   ]
  },
  {
   "cell_type": "code",
   "execution_count": 24,
   "metadata": {},
   "outputs": [
    {
     "name": "stderr",
     "output_type": "stream",
     "text": [
      "100%|████████████████████████████████████████████████████████████████████████████| 746/746 [00:00<00:00, 248447.74it/s]\n",
      "100%|████████████████████████████████████████████████████████████████████████████████| 746/746 [00:15<00:00, 47.55it/s]\n"
     ]
    }
   ],
   "source": [
    "b = transform(corpus, max_feature)"
   ]
  },
  {
   "cell_type": "code",
   "execution_count": 39,
   "metadata": {},
   "outputs": [
    {
     "data": {
      "text/plain": [
       "<746x50 sparse matrix of type '<class 'numpy.float64'>'\n",
       "\twith 50 stored elements in Compressed Sparse Row format>"
      ]
     },
     "execution_count": 39,
     "metadata": {},
     "output_type": "execute_result"
    }
   ],
   "source": [
    "b"
   ]
  },
  {
   "cell_type": "code",
   "execution_count": 44,
   "metadata": {},
   "outputs": [
    {
     "name": "stdout",
     "output_type": "stream",
     "text": [
      "\n",
      "Type of custom TfIdfVec output matrix = <class 'scipy.sparse.csr.csr_matrix'> \n",
      "\n",
      "printing some values of tfidf =\n",
      "   (0, 30)\t1.0 \n",
      "\n",
      "Sparse matrix to Feature matrix =\n",
      " [[0. 0. 0. ... 0. 0. 0.]\n",
      " [0. 0. 0. ... 0. 0. 0.]\n",
      " [0. 0. 0. ... 0. 0. 0.]\n",
      " ...\n",
      " [0. 0. 0. ... 0. 0. 0.]\n",
      " [0. 0. 0. ... 0. 0. 0.]\n",
      " [0. 0. 0. ... 0. 0. 0.]]\n"
     ]
    }
   ],
   "source": [
    "print('\\nType of custom TfIdfVec output matrix =', type(b), '\\n')\n",
    "\n",
    "# tfidf matrix became very sparse due to only 50 features\n",
    "print('printing some values of tfidf =\\n',b[0], '\\n')\n",
    "\n",
    "print('Sparse matrix to Feature matrix =\\n',b.toarray())"
   ]
  },
  {
   "cell_type": "markdown",
   "metadata": {},
   "source": [
    "# Cross-check idf values using sklearn"
   ]
  },
  {
   "cell_type": "code",
   "execution_count": 45,
   "metadata": {},
   "outputs": [],
   "source": [
    "vec1 = TfidfVectorizer().fit(corpus)\n",
    "X1 = TfidfVectorizer().fit_transform(corpus)\n",
    "\n",
    "features = vec1.get_feature_names()\n",
    "\n",
    "sklearn_idf = vec1.idf_"
   ]
  },
  {
   "cell_type": "code",
   "execution_count": 49,
   "metadata": {},
   "outputs": [
    {
     "data": {
      "text/plain": [
       "True"
      ]
     },
     "execution_count": 49,
     "metadata": {},
     "output_type": "execute_result"
    }
   ],
   "source": [
    "(my_idf==sklearn_idf).all()"
   ]
  },
  {
   "cell_type": "markdown",
   "metadata": {},
   "source": [
    "**Computing my_idf values**"
   ]
  },
  {
   "cell_type": "code",
   "execution_count": 48,
   "metadata": {},
   "outputs": [],
   "source": [
    "# 1. Creating list of documents inside documents for simplification only\n",
    "lst_0 = list()\n",
    "j = 0\n",
    "for i in corpus:\n",
    "    lst_0.append([])\n",
    "    lst_0[j].append(i)\n",
    "    j += 1\n",
    "\n",
    "\n",
    "# 2. Separating each word to iterate amongst words nicely\n",
    "lst_1 = []\n",
    "for i in lst_0:\n",
    "    for j in i:\n",
    "        lst_1.append((j.split(' ')))\n",
    "\n",
    "# 3. Collecting unique words from corpus and sorting them\n",
    "\n",
    "unique_words = set()\n",
    "if isinstance(corpus, (list,)):\n",
    "    for row in corpus:\n",
    "        for word in row.split(' '):\n",
    "            if len(word)<2:\n",
    "                continue\n",
    "            unique_words.add(word)\n",
    "    unique_words = sorted(list(unique_words))\n",
    "\n",
    "# 4. Looping row wise........\n",
    "\n",
    "i = 0\n",
    "idf_val = []\n",
    "N = len(lst_1)             # total no. of documents in corpus\n",
    "for sent in range(len(lst_1)):\n",
    "    for word in range(len(unique_words)):\n",
    "        \n",
    "        n=0                # no. of doc has term-'t'\n",
    "        for i in range(len(lst_1)):\n",
    "            if lst_1[i].count(unique_words[word]) != 0:\n",
    "                n += 1\n",
    "\n",
    "        idf = 1 + (np.log((1+N)/(1+n)))\n",
    "        idf_val.append(idf)\n",
    "    break\n",
    "my_idf = np.array(idf_val)"
   ]
  },
  {
   "cell_type": "code",
   "execution_count": null,
   "metadata": {},
   "outputs": [],
   "source": []
  },
  {
   "cell_type": "code",
   "execution_count": null,
   "metadata": {},
   "outputs": [],
   "source": []
  }
 ],
 "metadata": {
  "kernelspec": {
   "display_name": "Python 3 (ipykernel)",
   "language": "python",
   "name": "python3"
  },
  "language_info": {
   "codemirror_mode": {
    "name": "ipython",
    "version": 3
   },
   "file_extension": ".py",
   "mimetype": "text/x-python",
   "name": "python",
   "nbconvert_exporter": "python",
   "pygments_lexer": "ipython3",
   "version": "3.9.7"
  }
 },
 "nbformat": 4,
 "nbformat_minor": 2
}
